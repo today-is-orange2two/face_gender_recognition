{
 "cells": [
  {
   "cell_type": "code",
   "execution_count": 1,
   "metadata": {},
   "outputs": [
    {
     "name": "stderr",
     "output_type": "stream",
     "text": [
      "Using TensorFlow backend.\n"
     ]
    },
    {
     "name": "stdout",
     "output_type": "stream",
     "text": [
      "Enter a number (need help '0') >> 9999\n",
      "[NOTICE] System initialization\n",
      "Enter a number (need help '0') >> 444\n",
      "[NOTICE] Shut down\n"
     ]
    }
   ],
   "source": [
    "import add_users\n",
    "import del_all\n",
    "import del_choice\n",
    "import edit_user\n",
    "import identi_users\n",
    "import numpy_data\n",
    "\n",
    "help =\"\"\"\n",
    "0    : 도움말\n",
    "1    : 사용자식별\n",
    "444  : 종료\n",
    "1111 : 사용자등록\n",
    "2222 : 사용자삭제(선택된 사용자)\n",
    "3333 : 사용자정보변경\n",
    "9999 : 사용자삭제(전체초기화)\n",
    "\"\"\"\n",
    "\n",
    "def main():\n",
    "    num = input(\"Enter a number (need help '0') >> \")\n",
    "    \n",
    "    if num == \"0\": #도움말\n",
    "        print(help)\n",
    "        return main()\n",
    "    elif num == \"1\": #사용자식별\n",
    "        identi_users.identi_user()\n",
    "        exit()\n",
    "    elif num == \"444\": #종료\n",
    "        print(\"[NOTICE] Shut down\")\n",
    "        exit()        \n",
    "    elif num == \"1111\": #사용자등록\n",
    "        add_users.add_users()\n",
    "        numpy_data.numpy_data()\n",
    "        return main() \n",
    "    elif num == \"2222\": #사용자삭제\n",
    "        del_choice.del_choice()\n",
    "        return main() \n",
    "    elif num == \"3333\": #사용자정보변경\n",
    "        edit_user.edit_user()\n",
    "        return main() \n",
    "    elif num == \"9999\": #사용자삭제(전체초기화)\n",
    "        del_all.del_all()\n",
    "        return main() \n",
    "    else:\n",
    "        print(\"\\nSelect a number again\")\n",
    "        return main()     \n",
    "    \n",
    "if __name__=='__main__':\n",
    "    main()\n"
   ]
  },
  {
   "cell_type": "code",
   "execution_count": null,
   "metadata": {},
   "outputs": [],
   "source": []
  },
  {
   "cell_type": "code",
   "execution_count": null,
   "metadata": {},
   "outputs": [],
   "source": []
  }
 ],
 "metadata": {
  "kernelspec": {
   "display_name": "Python 3",
   "language": "python",
   "name": "python3"
  },
  "language_info": {
   "codemirror_mode": {
    "name": "ipython",
    "version": 3
   },
   "file_extension": ".py",
   "mimetype": "text/x-python",
   "name": "python",
   "nbconvert_exporter": "python",
   "pygments_lexer": "ipython3",
   "version": "3.6.5"
  }
 },
 "nbformat": 4,
 "nbformat_minor": 2
}
