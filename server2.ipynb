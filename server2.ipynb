{
 "cells": [
  {
   "cell_type": "code",
   "execution_count": 1,
   "metadata": {},
   "outputs": [
    {
     "name": "stdout",
     "output_type": "stream",
     "text": [
      "bind\n",
      "listen\n",
      "accept\n",
      "--client information--\n",
      "<socket.socket fd=45, family=AddressFamily.AF_INET, type=SocketKind.SOCK_STREAM, proto=0, laddr=('127.0.0.1', 6000), raddr=('127.0.0.1', 54404)>\n",
      "recieve data :  yangho\n",
      "close\n"
     ]
    }
   ],
   "source": [
    "from socket import *\n",
    "from select import *\n",
    "\n",
    "HOST = '127.0.0.1'\n",
    "PORT = 6000\n",
    "BUFSIZE = 1024\n",
    "ADDR = (HOST, PORT)\n",
    "\n",
    "# 소켓 생성\n",
    "serverSocket = socket(AF_INET, SOCK_STREAM)\n",
    "\n",
    "# 소켓 주소 정보 할당 \n",
    "serverSocket.bind(ADDR)\n",
    "print('bind')\n",
    "\n",
    "# 연결 수신 대기 상태\n",
    "serverSocket.listen(100)\n",
    "print('listen')\n",
    "\n",
    "# 연결 수락\n",
    "clientSocekt, addr_info = serverSocket.accept()\n",
    "print('accept')\n",
    "print('--client information--')\n",
    "print(clientSocekt)\n",
    "\n",
    "# 클라이언트로부터 메시지를 가져옴\n",
    "data = clientSocekt.recv(65535)\n",
    "print('recieve data : ',data.decode())\n",
    "\n",
    "# 소켓 종료 \n",
    "clientSocekt.close()\n",
    "serverSocket.close()\n",
    "print('close')"
   ]
  }
 ],
 "metadata": {
  "kernelspec": {
   "display_name": "Python 3",
   "language": "python",
   "name": "python3"
  },
  "language_info": {
   "codemirror_mode": {
    "name": "ipython",
    "version": 3
   },
   "file_extension": ".py",
   "mimetype": "text/x-python",
   "name": "python",
   "nbconvert_exporter": "python",
   "pygments_lexer": "ipython3",
   "version": "3.6.5"
  }
 },
 "nbformat": 4,
 "nbformat_minor": 2
}
