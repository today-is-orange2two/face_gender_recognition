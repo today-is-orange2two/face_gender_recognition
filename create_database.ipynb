{
 "cells": [
  {
   "cell_type": "markdown",
   "metadata": {},
   "source": [
    "### 테이블 및 데이터 초기화(전부삭제)"
   ]
  },
  {
   "cell_type": "code",
   "execution_count": 21,
   "metadata": {},
   "outputs": [],
   "source": [
    "\"\"\"\n",
    "이 코드를 실행하면 DB에 저장된 모든 테이블 삭제 \n",
    "data 폴더에 저장된 모든 이미지파일 삭제\n",
    "\n",
    "\"\"\"\n",
    "\n",
    "import sqlite3\n",
    "import os\n",
    "import shutil\n",
    "\n",
    "conn = sqlite3.connect('database.db')\n",
    "c = conn.cursor()\n",
    "sql = \"\"\"\n",
    "DROP TABLE IF EXISTS users;\n",
    "CREATE TABLE users (\n",
    "           id integer unique primary key autoincrement,\n",
    "           name text,\n",
    "           gender text\n",
    ");\n",
    "\"\"\"\n",
    "c.executescript(sql) # 한번의 호출로 여러 SQL문을 실행할때 사용\n",
    "\n",
    "if os.path.exists(\"./dataset\"):\n",
    "    shutil.rmtree(\"./dataset\")\n",
    "else:\n",
    "    os.mkdir(\"./dataset\")\n",
    "\n",
    "conn.commit()\n",
    "conn.close()"
   ]
  },
  {
   "cell_type": "markdown",
   "metadata": {},
   "source": [
    "### 선택한 사용자만 삭제"
   ]
  },
  {
   "cell_type": "code",
   "execution_count": 28,
   "metadata": {
    "scrolled": true
   },
   "outputs": [
    {
     "name": "stdout",
     "output_type": "stream",
     "text": [
      "Enter your name: kim\n",
      "(3, 'kim', 'male')\n",
      "Successfully deleted\n"
     ]
    }
   ],
   "source": [
    "\"\"\"\n",
    "이 코드를 실행하면 선택된 회원의 DB 삭제 \n",
    "data 폴더에 저장된 선택된 회원의 모든 이미지파일 삭제\n",
    "\n",
    "\"\"\"\n",
    "\n",
    "import sqlite3\n",
    "import os\n",
    "import shutil\n",
    "import glob\n",
    "\n",
    "conn = sqlite3.connect('database.db')\n",
    "c = conn.cursor()\n",
    "\n",
    "uname = input(\"Enter your name: \")\n",
    "\n",
    "\n",
    "c.execute(\"SELECT * FROM users WHERE name=(?)\",(uname,))\n",
    "result = c.fetchone()\n",
    "\n",
    "try:\n",
    "    if uname in result:\n",
    "        c.execute(\"DELETE FROM users WHERE name=(?)\",(uname,)) \n",
    "        os.system('rm ' + './dataset/' + uname + '*' + '.jpg')\n",
    "        print(\"Successfully deleted\")\n",
    "except TypeError: \n",
    "    print(\"not exists, please check your id\")\n",
    "\n",
    "\n",
    "conn.commit()\n",
    "conn.close()"
   ]
  },
  {
   "cell_type": "markdown",
   "metadata": {},
   "source": [
    "### 사진촬영 후 DB에 저장 (사용자등록)"
   ]
  },
  {
   "cell_type": "code",
   "execution_count": 29,
   "metadata": {},
   "outputs": [
    {
     "name": "stdout",
     "output_type": "stream",
     "text": [
      "Enter your name: kim\n",
      "\n",
      " [NOTICE] Initializing face capture. Look the camera and wait a few moment\n",
      "\n",
      " [NOTICE] Exiting camera and cleanup stuff\n",
      "\n",
      " [NOTICE] kim is male\n",
      "\n",
      " [NOTICE] be close the registration program\n"
     ]
    }
   ],
   "source": [
    "\"\"\"\n",
    "추가 사용자 등록을 할 경우 여기서부터 실행\n",
    "\n",
    "\"\"\"\n",
    "\n",
    "import sqlite3\n",
    "import cv2\n",
    "import numpy as np \n",
    "import sqlite3\n",
    "import os\n",
    "from PIL import Image\n",
    "import glob\n",
    "from keras.models import load_model\n",
    "\n",
    "\n",
    "conn = sqlite3.connect('database.db')\n",
    "if not os.path.exists('./dataset'):\n",
    "    os.makedirs('./dataset')\n",
    "    \n",
    "# Connection를 얻으면 cursor() 객체를 만들어야 excute()메서드 호출가능\n",
    "c = conn.cursor()\n",
    "face_cascade = cv2.CascadeClassifier('haarcascade_frontalface_default.xml')\n",
    "\n",
    "cap = cv2.VideoCapture(0)\n",
    "uname = input(\"Enter your name: \")\n",
    "\n",
    "c.execute('INSERT INTO users (name) VALUES (?)', (uname,))\n",
    "\n",
    "# 읽기전용 어트리뷰트로 마지막으로 수정된 행의 rowid() 제공\n",
    "# excute() 메서드를 사용하여 insert나 replace를 실행했을때만 설정\n",
    "uid = c.lastrowid\n",
    "print(\"\\n [NOTICE] Initializing face capture. Look the camera and wait a few moment\")\n",
    "count = 0\n",
    "while True:\n",
    "    ret, img = cap.read()\n",
    "    gray = cv2.cvtColor(img, cv2.COLOR_BGR2GRAY)\n",
    "    faces = face_cascade.detectMultiScale(gray, 1.3, 5)\n",
    "    for (x,y,w,h) in faces:\n",
    "        count = count+1\n",
    "        cv2.imwrite(\"dataset/\"+str(uname)+\".\"+str(uid)+\".\"+str(count)+\".jpg\",gray[y:y+h,x:x+w])\n",
    "        cv2.rectangle(img, (x,y), (x+w, y+h), (255,255,255), 2)\n",
    "        cv2.waitKey(100)\n",
    "    cv2.imshow('img',img)\n",
    "    if cv2.waitKey(1)==13 or count == 50:\n",
    "        break\n",
    "print(\"\\n [NOTICE] Exiting camera and cleanup stuff\")\n",
    "cap.release()\n",
    "cv2.destroyAllWindows()\n",
    "\n",
    "\n",
    "caltech_dir = './dataset'\n",
    "\n",
    "image_w = 64\n",
    "image_h = 64\n",
    "\n",
    "pixels = image_h * image_w * 3\n",
    "\n",
    "X = []\n",
    "filenames = []\n",
    "\n",
    "files = glob.glob(caltech_dir+\"/\"+uname+\"*.*\")\n",
    "for i, f in enumerate(files):\n",
    "    img = Image.open(f)\n",
    "    img = img.convert(\"RGB\")\n",
    "    img = img.resize((image_w, image_h))\n",
    "    data = np.asarray(img)\n",
    "    filenames.append(f)\n",
    "    X.append(data)\n",
    "\n",
    "X = np.array(X)\n",
    "X = X.astype(float) / 255\n",
    "model = load_model('./model/male_female_classify.model')#학습시킨 모델\n",
    "\n",
    "prediction = model.predict(X)\n",
    "\n",
    "cnt = 0\n",
    "cnt_m = 0\n",
    "cnt_f = 0\n",
    "for i in prediction:\n",
    "    if i >= 0.5: #여자일때\n",
    "        cnt_f +=1\n",
    "    else:        #남자일때\n",
    "        cnt_m +=1\n",
    "    cnt += 1\n",
    "\n",
    "if cnt_m > cnt_f:\n",
    "    sql = \"UPDATE users SET gender=(?) WHERE name=(?)\"\n",
    "    c.execute(sql,(\"male\",uname)) \n",
    "    print(f\"\\n [NOTICE] {uname} is male\")\n",
    "else:\n",
    "    sql = \"UPDATE users SET gender=(?) WHERE name=(?)\"\n",
    "    c.execute(sql,(\"female\",uname))\n",
    "    print(f\"\\n [NOTICE] {uname} is female\")\n",
    "    \n",
    "print(\"\\n [NOTICE] be close the registration program\")\n",
    "\n",
    "conn.commit()\n",
    "conn.close()"
   ]
  },
  {
   "cell_type": "markdown",
   "metadata": {},
   "source": [
    "### 저장한 이미지를 학습후 데이터 직렬화로 저장"
   ]
  },
  {
   "cell_type": "code",
   "execution_count": 23,
   "metadata": {},
   "outputs": [],
   "source": [
    "\"\"\"\n",
    "사용자 등록은 여기까지 실행시켜줘야 하나의 데이터로 묶인다\n",
    "\n",
    "\"\"\"\n",
    "\n",
    "import os\n",
    "import cv2\n",
    "import numpy as np \n",
    "from PIL import Image\n",
    "\n",
    "recognizer = cv2.face.LBPHFaceRecognizer_create()\n",
    "path = 'dataset'\n",
    "\n",
    "if not os.path.exists('./recognizer'):\n",
    "    os.makedirs('./recognizer')\n",
    "def getImagesWithID(path):\n",
    "    imagePaths = [os.path.join(path,f) for f in os.listdir(path)]\n",
    "    faces = []\n",
    "    IDs = []\n",
    "    for imagePath in imagePaths:\n",
    "        faceImg = Image.open(imagePath).convert('L')\n",
    "        faceNp = np.array(faceImg,'uint8')\n",
    "        ID = int(os.path.split(imagePath)[-1].split('.')[1])\n",
    "        faces.append(faceNp)\n",
    "        IDs.append(ID)\n",
    "        cv2.imshow(\"training\",faceNp)\n",
    "        cv2.waitKey(10)\n",
    "    return np.array(IDs), faces\n",
    "Ids, faces = getImagesWithID(path)\n",
    "recognizer.train(faces,Ids)\n",
    "recognizer.save('recognizer/trainingData.yml')\n",
    "cv2.destroyAllWindows()"
   ]
  },
  {
   "cell_type": "markdown",
   "metadata": {},
   "source": [
    "### 사용자 인증 및 성별 확인"
   ]
  },
  {
   "cell_type": "code",
   "execution_count": 1,
   "metadata": {
    "scrolled": true
   },
   "outputs": [
    {
     "name": "stderr",
     "output_type": "stream",
     "text": [
      "Using TensorFlow backend.\n"
     ]
    },
    {
     "name": "stdout",
     "output_type": "stream",
     "text": [
      " [NOTICE] KYH, Identify confirmation\n",
      "\n",
      " [NOTICE] Welcome KYH\n",
      "\n",
      " [NOTICE] kyh's gender is male\n"
     ]
    }
   ],
   "source": [
    "\"\"\"\n",
    "상시 실행 후 얼굴 분석 후 결과값 도출\n",
    "나온 결과값으로 성별 확인\n",
    "\n",
    "\"\"\"\n",
    "\n",
    "#### 사용자 인증 ####\n",
    "\n",
    "import cv2\n",
    "import numpy as np \n",
    "import sqlite3\n",
    "import os\n",
    "\n",
    "from PIL import Image\n",
    "import glob\n",
    "from keras.models import load_model\n",
    "\n",
    "conn = sqlite3.connect('database.db')\n",
    "c = conn.cursor()\n",
    "fname = \"recognizer/trainingData.yml\"\n",
    "if not os.path.isfile(fname):\n",
    "    print(\"Please train the data first\")\n",
    "    exit(0)\n",
    "    \n",
    "face_cascade = cv2.CascadeClassifier('haarcascade_frontalface_default.xml')\n",
    "cap = cv2.VideoCapture(0)\n",
    "recognizer = cv2.face.LBPHFaceRecognizer_create()\n",
    "recognizer.read(fname)\n",
    "\n",
    "while True:\n",
    "    ret, img = cap.read()\n",
    "    gray = cv2.cvtColor(img, cv2.COLOR_BGR2GRAY)\n",
    "    faces = face_cascade.detectMultiScale(gray, 1.3, 5)\n",
    "    for (x,y,w,h) in faces:\n",
    "        cv2.rectangle(img,(x,y),(x+w,y+h),(0,128,0),3)\n",
    "        ids,conf = recognizer.predict(gray[y:y+h,x:x+w])\n",
    "        c.execute(\"SELECT name FROM users WHERE id = (?);\", (ids,))\n",
    "        \n",
    "        # 쿼리문 질의 결과의 모든 행을 가져와서 리스트를 반환, 행이 없으면 빈 리스트가 반환\n",
    "        result = c.fetchall()\n",
    "        name = result[0][0]\n",
    "        if conf < 50:\n",
    "            cv2.putText(img, name, (x+3,y+h-3), cv2.FONT_HERSHEY_SIMPLEX, 0.8, (255,255,0),2)\n",
    "        else:\n",
    "            cv2.putText(img, 'No Match', (x+3,y+h-3), cv2.FONT_HERSHEY_SIMPLEX, 0.8, (0,0,220),2)\n",
    "    cv2.imshow('DTWORESOURCE',img)\n",
    "    k = cv2.waitKey(30) & 0xff\n",
    "    if k == 27: # esc 키 누르면 종료\n",
    "        break\n",
    "        \n",
    "print(f\" [NOTICE] {name.upper()}, Identify confirmation\")\n",
    "print(f\"\\n [NOTICE] Welcome {name.upper()}\") \n",
    "cap.release()\n",
    "cv2.destroyAllWindows()\n",
    "\n",
    "#### 성별 확인 ####\n",
    "\n",
    "c.execute(\"SELECT gender FROM users WHERE name=(?)\",(name,))\n",
    "# 쿼리문 질의 결과의 단일 행을 가져와서 리스트를 반환\n",
    "gen = c.fetchone()\n",
    "\n",
    "if \"male\" in gen:\n",
    "    gen = \"male\"\n",
    "elif \"female\" in gen:\n",
    "    gen = \"female\"\n",
    "    \n",
    "print(f\"\\n [NOTICE] {name}'s gender is {gen}\")"
   ]
  },
  {
   "cell_type": "markdown",
   "metadata": {},
   "source": [
    "### flask 이용하여 결과값 웹에서 얻기"
   ]
  },
  {
   "cell_type": "code",
   "execution_count": null,
   "metadata": {},
   "outputs": [
    {
     "name": "stderr",
     "output_type": "stream",
     "text": [
      " * Running on http://127.0.0.1:5000/ (Press CTRL+C to quit)\n",
      "127.0.0.1 - - [18/Sep/2019 19:24:10] \"\u001b[37mGET /hello HTTP/1.1\u001b[0m\" 200 -\n"
     ]
    }
   ],
   "source": [
    "from flask import Flask, request, render_template, url_for\n",
    "\n",
    "# Initialize\n",
    "app = Flask(__name__)\n",
    " \n",
    "# Define a route for url \n",
    "@app.route('/')\n",
    "def form():\n",
    "    return render_template('face.html')\n",
    "\n",
    "# form action\n",
    "@app.route('/hello',methods=['GET'])\n",
    "def action():\n",
    "    return render_template('face.html', name = name.upper())\n",
    "\n",
    "# Run the app \n",
    "if __name__ == '__main__':\n",
    "    app.run()"
   ]
  },
  {
   "cell_type": "markdown",
   "metadata": {},
   "source": [
    "### socket 이용하여 server에서 결과값 얻기"
   ]
  },
  {
   "cell_type": "code",
   "execution_count": 2,
   "metadata": {},
   "outputs": [
    {
     "name": "stdout",
     "output_type": "stream",
     "text": [
      "connect is success\n"
     ]
    }
   ],
   "source": [
    "from socket import *\n",
    "from select import *\n",
    "import sys\n",
    "from time import ctime\n",
    "\n",
    "HOST = '127.0.0.1'\n",
    "PORT = 6000\n",
    "BUFSIZE = 1024\n",
    "ADDR = (HOST,PORT)\n",
    "\n",
    "clientSocket = socket(AF_INET, SOCK_STREAM)# 서버에 접속하기 위한 소켓을 생성한다.\n",
    "\n",
    "try:\n",
    "    clientSocket.connect(ADDR)# 서버에 접속을 시도한다.\n",
    "    clientSocket.send(name.encode())\t# 서버에 메시지 전달\n",
    "\n",
    "except  Exception as e:\n",
    "    print('%s:%s'%ADDR)\n",
    "    sys.exit()\n",
    "\n",
    "print('connect is success')"
   ]
  },
  {
   "cell_type": "markdown",
   "metadata": {},
   "source": [
    "### TTS를 이용하여 결과값 음성으로 듣기"
   ]
  },
  {
   "cell_type": "code",
   "execution_count": 16,
   "metadata": {},
   "outputs": [],
   "source": [
    "from gtts import gTTS\n",
    "text = \"hi! how are you\"+name\n",
    "\n",
    "tts = gTTS(text=text, lang='en')\n",
    "tts.save(\"helloEN.mp3\")"
   ]
  },
  {
   "cell_type": "markdown",
   "metadata": {},
   "source": [
    "### 회원 이름 수정"
   ]
  },
  {
   "cell_type": "code",
   "execution_count": 41,
   "metadata": {},
   "outputs": [
    {
     "name": "stdout",
     "output_type": "stream",
     "text": [
      "Enter your name: hoho\n",
      "Enter your nane to change: kim\n",
      "Successfully changed\n"
     ]
    }
   ],
   "source": [
    "\"\"\"\n",
    "이 코드를 실행하면 선택된 회원의 DB 이름 변경\n",
    "data 폴더에 저장된 선택된 회원의 모든 이미지파일 이름 변경\n",
    "\n",
    "\"\"\"\n",
    "\n",
    "import sqlite3\n",
    "import os\n",
    "import shutil\n",
    "\n",
    "\n",
    "conn = sqlite3.connect('database.db')\n",
    "c = conn.cursor()\n",
    "\n",
    "uname = input(\"Enter your name: \")\n",
    "sname = input(\"Enter your nane to change: \")\n",
    "\n",
    "\n",
    "c.execute(\"SELECT * FROM users WHERE name=(?)\",(uname,))\n",
    "result = c.fetchone()\n",
    "            \n",
    "try:\n",
    "    if uname in result:\n",
    "        sql = \"UPDATE users SET name=(?) WHERE name=(?)\"\n",
    "        c.execute(sql,(sname,uname)) \n",
    "        \n",
    "        print(\"Successfully changed\")\n",
    "        \n",
    "        # 현재 위치(./dataset)의 파일을 모두 가져온다. \n",
    "        path = \"./dataset\"\n",
    "        for filename in os.listdir(path): \n",
    "        \n",
    "            # 파일 확장자가 (jpg)인 것만 처리 \n",
    "            if filename.endswith(\"jpg\"): \n",
    "            \n",
    "                # 파일명에서 uname를 sname로 변경하고 파일명 수정 \n",
    "                new_filename = filename.replace(uname, sname) \n",
    "                os.rename(path+\"/\"+filename, path+\"/\"+new_filename)\n",
    "except TypeError: \n",
    "    print(\"not exists, please check your id\")\n",
    "\n",
    "conn.commit()\n",
    "conn.close()"
   ]
  },
  {
   "cell_type": "code",
   "execution_count": null,
   "metadata": {},
   "outputs": [],
   "source": []
  },
  {
   "cell_type": "code",
   "execution_count": null,
   "metadata": {},
   "outputs": [],
   "source": []
  },
  {
   "cell_type": "code",
   "execution_count": null,
   "metadata": {},
   "outputs": [],
   "source": []
  },
  {
   "cell_type": "code",
   "execution_count": null,
   "metadata": {},
   "outputs": [],
   "source": [
    "caltech_dir = './dataset'\n",
    "\n",
    "image_w = 64\n",
    "image_h = 64\n",
    "\n",
    "pixels = image_h * image_w * 3\n",
    "\n",
    "X = []\n",
    "filenames = []\n",
    "\n",
    "files = glob.glob(caltech_dir+\"/\"+name+\"*.*\")\n",
    "for i, f in enumerate(files):\n",
    "    img = Image.open(f)\n",
    "    img = img.convert(\"RGB\")\n",
    "    img = img.resize((image_w, image_h))\n",
    "    data = np.asarray(img)\n",
    "    filenames.append(f)\n",
    "    X.append(data)\n",
    "\n",
    "X = np.array(X)\n",
    "X = X.astype(float) / 255\n",
    "model = load_model('./model/male_female_classify.model')#학습시킨 모델\n",
    "\n",
    "prediction = model.predict(X)\n",
    "\n",
    "cnt = 0\n",
    "cnt_m = 0\n",
    "cnt_f = 0\n",
    "for i in prediction:\n",
    "    if i >= 0.5: #여자일때\n",
    "        cnt_f +=1\n",
    "    else:        #남자일때\n",
    "        cnt_m +=1\n",
    "    cnt += 1\n",
    "\n",
    "print(f\"\\n{name} 사용자는 남자입니다\" if cnt_m > cnt_f else f\"{name} 사용자는 여자입니다\")"
   ]
  },
  {
   "cell_type": "code",
   "execution_count": null,
   "metadata": {},
   "outputs": [],
   "source": []
  },
  {
   "cell_type": "code",
   "execution_count": null,
   "metadata": {},
   "outputs": [],
   "source": []
  }
 ],
 "metadata": {
  "kernelspec": {
   "display_name": "Python 3",
   "language": "python",
   "name": "python3"
  },
  "language_info": {
   "codemirror_mode": {
    "name": "ipython",
    "version": 3
   },
   "file_extension": ".py",
   "mimetype": "text/x-python",
   "name": "python",
   "nbconvert_exporter": "python",
   "pygments_lexer": "ipython3",
   "version": "3.6.5"
  }
 },
 "nbformat": 4,
 "nbformat_minor": 2
}
